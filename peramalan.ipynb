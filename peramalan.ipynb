{
 "cells": [
  {
   "cell_type": "code",
   "execution_count": 20,
   "metadata": {},
   "outputs": [],
   "source": [
    "import pandas as pd\n",
    "import numpy as np"
   ]
  },
  {
   "cell_type": "code",
   "execution_count": 21,
   "metadata": {},
   "outputs": [
    {
     "data": {
      "text/html": [
       "<div>\n",
       "<style scoped>\n",
       "    .dataframe tbody tr th:only-of-type {\n",
       "        vertical-align: middle;\n",
       "    }\n",
       "\n",
       "    .dataframe tbody tr th {\n",
       "        vertical-align: top;\n",
       "    }\n",
       "\n",
       "    .dataframe thead th {\n",
       "        text-align: right;\n",
       "    }\n",
       "</style>\n",
       "<table border=\"1\" class=\"dataframe\">\n",
       "  <thead>\n",
       "    <tr style=\"text-align: right;\">\n",
       "      <th></th>\n",
       "      <th>Month</th>\n",
       "      <th>Passengers</th>\n",
       "    </tr>\n",
       "  </thead>\n",
       "  <tbody>\n",
       "    <tr>\n",
       "      <th>0</th>\n",
       "      <td>1949-01</td>\n",
       "      <td>112</td>\n",
       "    </tr>\n",
       "    <tr>\n",
       "      <th>1</th>\n",
       "      <td>1949-02</td>\n",
       "      <td>118</td>\n",
       "    </tr>\n",
       "    <tr>\n",
       "      <th>2</th>\n",
       "      <td>1949-03</td>\n",
       "      <td>132</td>\n",
       "    </tr>\n",
       "    <tr>\n",
       "      <th>3</th>\n",
       "      <td>1949-04</td>\n",
       "      <td>129</td>\n",
       "    </tr>\n",
       "    <tr>\n",
       "      <th>4</th>\n",
       "      <td>1949-05</td>\n",
       "      <td>121</td>\n",
       "    </tr>\n",
       "    <tr>\n",
       "      <th>...</th>\n",
       "      <td>...</td>\n",
       "      <td>...</td>\n",
       "    </tr>\n",
       "    <tr>\n",
       "      <th>139</th>\n",
       "      <td>1960-08</td>\n",
       "      <td>606</td>\n",
       "    </tr>\n",
       "    <tr>\n",
       "      <th>140</th>\n",
       "      <td>1960-09</td>\n",
       "      <td>508</td>\n",
       "    </tr>\n",
       "    <tr>\n",
       "      <th>141</th>\n",
       "      <td>1960-10</td>\n",
       "      <td>461</td>\n",
       "    </tr>\n",
       "    <tr>\n",
       "      <th>142</th>\n",
       "      <td>1960-11</td>\n",
       "      <td>390</td>\n",
       "    </tr>\n",
       "    <tr>\n",
       "      <th>143</th>\n",
       "      <td>1960-12</td>\n",
       "      <td>432</td>\n",
       "    </tr>\n",
       "  </tbody>\n",
       "</table>\n",
       "<p>144 rows × 2 columns</p>\n",
       "</div>"
      ],
      "text/plain": [
       "       Month  Passengers\n",
       "0    1949-01         112\n",
       "1    1949-02         118\n",
       "2    1949-03         132\n",
       "3    1949-04         129\n",
       "4    1949-05         121\n",
       "..       ...         ...\n",
       "139  1960-08         606\n",
       "140  1960-09         508\n",
       "141  1960-10         461\n",
       "142  1960-11         390\n",
       "143  1960-12         432\n",
       "\n",
       "[144 rows x 2 columns]"
      ]
     },
     "execution_count": 21,
     "metadata": {},
     "output_type": "execute_result"
    }
   ],
   "source": [
    "data=pd.read_csv(\"airline-passengers.csv\")\n",
    "data"
   ]
  },
  {
   "cell_type": "code",
   "execution_count": 28,
   "metadata": {},
   "outputs": [],
   "source": [
    "# define univariate time series\n",
    "passengers = data['Passengers']"
   ]
  },
  {
   "cell_type": "code",
   "execution_count": 29,
   "metadata": {},
   "outputs": [
    {
     "ename": "ValueError",
     "evalue": "Expected 2D array, got 1D array instead:\narray=[112. 118. 132. 129. 121. 135. 148. 148. 136. 119. 104. 118. 115. 126.\n 141. 135. 125. 149. 170. 170. 158. 133. 114. 140. 145. 150. 178. 163.\n 172. 178. 199. 199. 184. 162. 146. 166. 171. 180. 193. 181. 183. 218.\n 230. 242. 209. 191. 172. 194. 196. 196. 236. 235. 229. 243. 264. 272.\n 237. 211. 180. 201. 204. 188. 235. 227. 234. 264. 302. 293. 259. 229.\n 203. 229. 242. 233. 267. 269. 270. 315. 364. 347. 312. 274. 237. 278.\n 284. 277. 317. 313. 318. 374. 413. 405. 355. 306. 271. 306. 315. 301.\n 356. 348. 355. 422. 465. 467. 404. 347. 305. 336. 340. 318. 362. 348.\n 363. 435. 491. 505. 404. 359. 310. 337. 360. 342. 406. 396. 420. 472.\n 548. 559. 463. 407. 362. 405. 417. 391. 419. 461. 472. 535. 622. 606.\n 508. 461. 390. 432.].\nReshape your data either using array.reshape(-1, 1) if your data has a single feature or array.reshape(1, -1) if it contains a single sample.",
     "output_type": "error",
     "traceback": [
      "\u001b[0;31m---------------------------------------------------------------------------\u001b[0m",
      "\u001b[0;31mValueError\u001b[0m                                Traceback (most recent call last)",
      "Cell \u001b[0;32mIn[29], line 4\u001b[0m\n\u001b[1;32m      1\u001b[0m \u001b[38;5;28;01mfrom\u001b[39;00m \u001b[38;5;21;01msklearn\u001b[39;00m\u001b[38;5;21;01m.\u001b[39;00m\u001b[38;5;21;01mpreprocessing\u001b[39;00m \u001b[38;5;28;01mimport\u001b[39;00m MinMaxScaler\n\u001b[1;32m      3\u001b[0m scaler \u001b[38;5;241m=\u001b[39m MinMaxScaler()\n\u001b[0;32m----> 4\u001b[0m \u001b[43mscaler\u001b[49m\u001b[38;5;241;43m.\u001b[39;49m\u001b[43mfit\u001b[49m\u001b[43m(\u001b[49m\u001b[43mpassengers\u001b[49m\u001b[43m)\u001b[49m\n\u001b[1;32m      5\u001b[0m data_normal\u001b[38;5;241m=\u001b[39mscaler\u001b[38;5;241m.\u001b[39mtransform(passengers)\n\u001b[1;32m      6\u001b[0m data_normal\n",
      "File \u001b[0;32m~/.local/lib/python3.8/site-packages/sklearn/preprocessing/_data.py:427\u001b[0m, in \u001b[0;36mMinMaxScaler.fit\u001b[0;34m(self, X, y)\u001b[0m\n\u001b[1;32m    <a href='file:///home/ubuntu/.local/lib/python3.8/site-packages/sklearn/preprocessing/_data.py?line=424'>425</a>\u001b[0m \u001b[39m# Reset internal state before fitting\u001b[39;00m\n\u001b[1;32m    <a href='file:///home/ubuntu/.local/lib/python3.8/site-packages/sklearn/preprocessing/_data.py?line=425'>426</a>\u001b[0m \u001b[39mself\u001b[39m\u001b[39m.\u001b[39m_reset()\n\u001b[0;32m--> <a href='file:///home/ubuntu/.local/lib/python3.8/site-packages/sklearn/preprocessing/_data.py?line=426'>427</a>\u001b[0m \u001b[39mreturn\u001b[39;00m \u001b[39mself\u001b[39;49m\u001b[39m.\u001b[39;49mpartial_fit(X, y)\n",
      "File \u001b[0;32m~/.local/lib/python3.8/site-packages/sklearn/preprocessing/_data.py:466\u001b[0m, in \u001b[0;36mMinMaxScaler.partial_fit\u001b[0;34m(self, X, y)\u001b[0m\n\u001b[1;32m    <a href='file:///home/ubuntu/.local/lib/python3.8/site-packages/sklearn/preprocessing/_data.py?line=459'>460</a>\u001b[0m     \u001b[39mraise\u001b[39;00m \u001b[39mTypeError\u001b[39;00m(\n\u001b[1;32m    <a href='file:///home/ubuntu/.local/lib/python3.8/site-packages/sklearn/preprocessing/_data.py?line=460'>461</a>\u001b[0m         \u001b[39m\"\u001b[39m\u001b[39mMinMaxScaler does not support sparse input. \u001b[39m\u001b[39m\"\u001b[39m\n\u001b[1;32m    <a href='file:///home/ubuntu/.local/lib/python3.8/site-packages/sklearn/preprocessing/_data.py?line=461'>462</a>\u001b[0m         \u001b[39m\"\u001b[39m\u001b[39mConsider using MaxAbsScaler instead.\u001b[39m\u001b[39m\"\u001b[39m\n\u001b[1;32m    <a href='file:///home/ubuntu/.local/lib/python3.8/site-packages/sklearn/preprocessing/_data.py?line=462'>463</a>\u001b[0m     )\n\u001b[1;32m    <a href='file:///home/ubuntu/.local/lib/python3.8/site-packages/sklearn/preprocessing/_data.py?line=464'>465</a>\u001b[0m first_pass \u001b[39m=\u001b[39m \u001b[39mnot\u001b[39;00m \u001b[39mhasattr\u001b[39m(\u001b[39mself\u001b[39m, \u001b[39m\"\u001b[39m\u001b[39mn_samples_seen_\u001b[39m\u001b[39m\"\u001b[39m)\n\u001b[0;32m--> <a href='file:///home/ubuntu/.local/lib/python3.8/site-packages/sklearn/preprocessing/_data.py?line=465'>466</a>\u001b[0m X \u001b[39m=\u001b[39m \u001b[39mself\u001b[39;49m\u001b[39m.\u001b[39;49m_validate_data(\n\u001b[1;32m    <a href='file:///home/ubuntu/.local/lib/python3.8/site-packages/sklearn/preprocessing/_data.py?line=466'>467</a>\u001b[0m     X,\n\u001b[1;32m    <a href='file:///home/ubuntu/.local/lib/python3.8/site-packages/sklearn/preprocessing/_data.py?line=467'>468</a>\u001b[0m     reset\u001b[39m=\u001b[39;49mfirst_pass,\n\u001b[1;32m    <a href='file:///home/ubuntu/.local/lib/python3.8/site-packages/sklearn/preprocessing/_data.py?line=468'>469</a>\u001b[0m     dtype\u001b[39m=\u001b[39;49mFLOAT_DTYPES,\n\u001b[1;32m    <a href='file:///home/ubuntu/.local/lib/python3.8/site-packages/sklearn/preprocessing/_data.py?line=469'>470</a>\u001b[0m     force_all_finite\u001b[39m=\u001b[39;49m\u001b[39m\"\u001b[39;49m\u001b[39mallow-nan\u001b[39;49m\u001b[39m\"\u001b[39;49m,\n\u001b[1;32m    <a href='file:///home/ubuntu/.local/lib/python3.8/site-packages/sklearn/preprocessing/_data.py?line=470'>471</a>\u001b[0m )\n\u001b[1;32m    <a href='file:///home/ubuntu/.local/lib/python3.8/site-packages/sklearn/preprocessing/_data.py?line=472'>473</a>\u001b[0m data_min \u001b[39m=\u001b[39m np\u001b[39m.\u001b[39mnanmin(X, axis\u001b[39m=\u001b[39m\u001b[39m0\u001b[39m)\n\u001b[1;32m    <a href='file:///home/ubuntu/.local/lib/python3.8/site-packages/sklearn/preprocessing/_data.py?line=473'>474</a>\u001b[0m data_max \u001b[39m=\u001b[39m np\u001b[39m.\u001b[39mnanmax(X, axis\u001b[39m=\u001b[39m\u001b[39m0\u001b[39m)\n",
      "File \u001b[0;32m~/.local/lib/python3.8/site-packages/sklearn/base.py:565\u001b[0m, in \u001b[0;36mBaseEstimator._validate_data\u001b[0;34m(self, X, y, reset, validate_separately, **check_params)\u001b[0m\n\u001b[1;32m    <a href='file:///home/ubuntu/.local/lib/python3.8/site-packages/sklearn/base.py?line=562'>563</a>\u001b[0m     \u001b[39mraise\u001b[39;00m \u001b[39mValueError\u001b[39;00m(\u001b[39m\"\u001b[39m\u001b[39mValidation should be done on X, y or both.\u001b[39m\u001b[39m\"\u001b[39m)\n\u001b[1;32m    <a href='file:///home/ubuntu/.local/lib/python3.8/site-packages/sklearn/base.py?line=563'>564</a>\u001b[0m \u001b[39melif\u001b[39;00m \u001b[39mnot\u001b[39;00m no_val_X \u001b[39mand\u001b[39;00m no_val_y:\n\u001b[0;32m--> <a href='file:///home/ubuntu/.local/lib/python3.8/site-packages/sklearn/base.py?line=564'>565</a>\u001b[0m     X \u001b[39m=\u001b[39m check_array(X, input_name\u001b[39m=\u001b[39;49m\u001b[39m\"\u001b[39;49m\u001b[39mX\u001b[39;49m\u001b[39m\"\u001b[39;49m, \u001b[39m*\u001b[39;49m\u001b[39m*\u001b[39;49mcheck_params)\n\u001b[1;32m    <a href='file:///home/ubuntu/.local/lib/python3.8/site-packages/sklearn/base.py?line=565'>566</a>\u001b[0m     out \u001b[39m=\u001b[39m X\n\u001b[1;32m    <a href='file:///home/ubuntu/.local/lib/python3.8/site-packages/sklearn/base.py?line=566'>567</a>\u001b[0m \u001b[39melif\u001b[39;00m no_val_X \u001b[39mand\u001b[39;00m \u001b[39mnot\u001b[39;00m no_val_y:\n",
      "File \u001b[0;32m~/.local/lib/python3.8/site-packages/sklearn/utils/validation.py:902\u001b[0m, in \u001b[0;36mcheck_array\u001b[0;34m(array, accept_sparse, accept_large_sparse, dtype, order, copy, force_all_finite, ensure_2d, allow_nd, ensure_min_samples, ensure_min_features, estimator, input_name)\u001b[0m\n\u001b[1;32m    <a href='file:///home/ubuntu/.local/lib/python3.8/site-packages/sklearn/utils/validation.py?line=899'>900</a>\u001b[0m     \u001b[39m# If input is 1D raise error\u001b[39;00m\n\u001b[1;32m    <a href='file:///home/ubuntu/.local/lib/python3.8/site-packages/sklearn/utils/validation.py?line=900'>901</a>\u001b[0m     \u001b[39mif\u001b[39;00m array\u001b[39m.\u001b[39mndim \u001b[39m==\u001b[39m \u001b[39m1\u001b[39m:\n\u001b[0;32m--> <a href='file:///home/ubuntu/.local/lib/python3.8/site-packages/sklearn/utils/validation.py?line=901'>902</a>\u001b[0m         \u001b[39mraise\u001b[39;00m \u001b[39mValueError\u001b[39;00m(\n\u001b[1;32m    <a href='file:///home/ubuntu/.local/lib/python3.8/site-packages/sklearn/utils/validation.py?line=902'>903</a>\u001b[0m             \u001b[39m\"\u001b[39m\u001b[39mExpected 2D array, got 1D array instead:\u001b[39m\u001b[39m\\n\u001b[39;00m\u001b[39marray=\u001b[39m\u001b[39m{}\u001b[39;00m\u001b[39m.\u001b[39m\u001b[39m\\n\u001b[39;00m\u001b[39m\"\u001b[39m\n\u001b[1;32m    <a href='file:///home/ubuntu/.local/lib/python3.8/site-packages/sklearn/utils/validation.py?line=903'>904</a>\u001b[0m             \u001b[39m\"\u001b[39m\u001b[39mReshape your data either using array.reshape(-1, 1) if \u001b[39m\u001b[39m\"\u001b[39m\n\u001b[1;32m    <a href='file:///home/ubuntu/.local/lib/python3.8/site-packages/sklearn/utils/validation.py?line=904'>905</a>\u001b[0m             \u001b[39m\"\u001b[39m\u001b[39myour data has a single feature or array.reshape(1, -1) \u001b[39m\u001b[39m\"\u001b[39m\n\u001b[1;32m    <a href='file:///home/ubuntu/.local/lib/python3.8/site-packages/sklearn/utils/validation.py?line=905'>906</a>\u001b[0m             \u001b[39m\"\u001b[39m\u001b[39mif it contains a single sample.\u001b[39m\u001b[39m\"\u001b[39m\u001b[39m.\u001b[39mformat(array)\n\u001b[1;32m    <a href='file:///home/ubuntu/.local/lib/python3.8/site-packages/sklearn/utils/validation.py?line=906'>907</a>\u001b[0m         )\n\u001b[1;32m    <a href='file:///home/ubuntu/.local/lib/python3.8/site-packages/sklearn/utils/validation.py?line=908'>909</a>\u001b[0m \u001b[39mif\u001b[39;00m dtype_numeric \u001b[39mand\u001b[39;00m array\u001b[39m.\u001b[39mdtype\u001b[39m.\u001b[39mkind \u001b[39min\u001b[39;00m \u001b[39m\"\u001b[39m\u001b[39mUSV\u001b[39m\u001b[39m\"\u001b[39m:\n\u001b[1;32m    <a href='file:///home/ubuntu/.local/lib/python3.8/site-packages/sklearn/utils/validation.py?line=909'>910</a>\u001b[0m     \u001b[39mraise\u001b[39;00m \u001b[39mValueError\u001b[39;00m(\n\u001b[1;32m    <a href='file:///home/ubuntu/.local/lib/python3.8/site-packages/sklearn/utils/validation.py?line=910'>911</a>\u001b[0m         \u001b[39m\"\u001b[39m\u001b[39mdtype=\u001b[39m\u001b[39m'\u001b[39m\u001b[39mnumeric\u001b[39m\u001b[39m'\u001b[39m\u001b[39m is not compatible with arrays of bytes/strings.\u001b[39m\u001b[39m\"\u001b[39m\n\u001b[1;32m    <a href='file:///home/ubuntu/.local/lib/python3.8/site-packages/sklearn/utils/validation.py?line=911'>912</a>\u001b[0m         \u001b[39m\"\u001b[39m\u001b[39mConvert your data to numeric values explicitly instead.\u001b[39m\u001b[39m\"\u001b[39m\n\u001b[1;32m    <a href='file:///home/ubuntu/.local/lib/python3.8/site-packages/sklearn/utils/validation.py?line=912'>913</a>\u001b[0m     )\n",
      "\u001b[0;31mValueError\u001b[0m: Expected 2D array, got 1D array instead:\narray=[112. 118. 132. 129. 121. 135. 148. 148. 136. 119. 104. 118. 115. 126.\n 141. 135. 125. 149. 170. 170. 158. 133. 114. 140. 145. 150. 178. 163.\n 172. 178. 199. 199. 184. 162. 146. 166. 171. 180. 193. 181. 183. 218.\n 230. 242. 209. 191. 172. 194. 196. 196. 236. 235. 229. 243. 264. 272.\n 237. 211. 180. 201. 204. 188. 235. 227. 234. 264. 302. 293. 259. 229.\n 203. 229. 242. 233. 267. 269. 270. 315. 364. 347. 312. 274. 237. 278.\n 284. 277. 317. 313. 318. 374. 413. 405. 355. 306. 271. 306. 315. 301.\n 356. 348. 355. 422. 465. 467. 404. 347. 305. 336. 340. 318. 362. 348.\n 363. 435. 491. 505. 404. 359. 310. 337. 360. 342. 406. 396. 420. 472.\n 548. 559. 463. 407. 362. 405. 417. 391. 419. 461. 472. 535. 622. 606.\n 508. 461. 390. 432.].\nReshape your data either using array.reshape(-1, 1) if your data has a single feature or array.reshape(1, -1) if it contains a single sample."
     ]
    }
   ],
   "source": [
    "from sklearn.preprocessing import MinMaxScaler\n",
    "\n",
    "scaler = MinMaxScaler()\n",
    "scaler.fit(passengers)\n",
    "data_normal=scaler.transform(passengers)\n",
    "data_normal"
   ]
  },
  {
   "cell_type": "code",
   "execution_count": 18,
   "metadata": {},
   "outputs": [],
   "source": [
    "# split a univariate sequence into samples\n",
    "def split_sequence(sequence, n_steps):\n",
    "  X, y = list(), list()\n",
    "  for i in range(len(sequence)):\n",
    "    # find the end of this pattern\n",
    "    end_ix = i + n_steps\n",
    "    # check if we are beyond the sequence\n",
    "    if end_ix > len(sequence)-1:\n",
    "      break\n",
    "    # gather input and output parts of the pattern\n",
    "    seq_x, seq_y = sequence[i:end_ix], sequence[end_ix]\n",
    "    X.append(seq_x)\n",
    "    y.append(seq_y)\n",
    "  return array(X), array(y)"
   ]
  },
  {
   "cell_type": "code",
   "execution_count": 22,
   "metadata": {},
   "outputs": [
    {
     "ename": "TypeError",
     "evalue": "'module' object is not callable",
     "output_type": "error",
     "traceback": [
      "\u001b[0;31m---------------------------------------------------------------------------\u001b[0m",
      "\u001b[0;31mTypeError\u001b[0m                                 Traceback (most recent call last)",
      "Cell \u001b[0;32mIn[22], line 4\u001b[0m\n\u001b[1;32m      2\u001b[0m passengers \u001b[38;5;241m=\u001b[39m data[\u001b[38;5;124m'\u001b[39m\u001b[38;5;124mPassengers\u001b[39m\u001b[38;5;124m'\u001b[39m]\u001b[38;5;241m.\u001b[39mvalues\n\u001b[1;32m      3\u001b[0m \u001b[38;5;66;03m# transform to a supervised learning problem\u001b[39;00m\n\u001b[0;32m----> 4\u001b[0m X, y \u001b[38;5;241m=\u001b[39m \u001b[43msplit_sequence\u001b[49m\u001b[43m(\u001b[49m\u001b[43mpassengers\u001b[49m\u001b[43m,\u001b[49m\u001b[43m \u001b[49m\u001b[38;5;241;43m2\u001b[39;49m\u001b[43m)\u001b[49m\n\u001b[1;32m      5\u001b[0m \u001b[38;5;28mprint\u001b[39m(X\u001b[38;5;241m.\u001b[39mshape, y\u001b[38;5;241m.\u001b[39mshape)\n\u001b[1;32m      6\u001b[0m dfX \u001b[38;5;241m=\u001b[39m pd\u001b[38;5;241m.\u001b[39mDataFrame(X, columns\u001b[38;5;241m=\u001b[39m[\u001b[38;5;124m\"\u001b[39m\u001b[38;5;124mXt-2\u001b[39m\u001b[38;5;124m\"\u001b[39m, \u001b[38;5;124m\"\u001b[39m\u001b[38;5;124mXt-1\u001b[39m\u001b[38;5;124m\"\u001b[39m])\n",
      "Cell \u001b[0;32mIn[18], line 14\u001b[0m, in \u001b[0;36msplit_sequence\u001b[0;34m(sequence, n_steps)\u001b[0m\n\u001b[1;32m     12\u001b[0m   X\u001b[38;5;241m.\u001b[39mappend(seq_x)\n\u001b[1;32m     13\u001b[0m   y\u001b[38;5;241m.\u001b[39mappend(seq_y)\n\u001b[0;32m---> 14\u001b[0m \u001b[38;5;28;01mreturn\u001b[39;00m \u001b[43marray\u001b[49m\u001b[43m(\u001b[49m\u001b[43mX\u001b[49m\u001b[43m)\u001b[49m, array(y)\n",
      "\u001b[0;31mTypeError\u001b[0m: 'module' object is not callable"
     ]
    }
   ],
   "source": [
    "\n",
    "# transform to a supervised learning problem\n",
    "X, y = split_sequence(passengers, 2)\n",
    "print(X.shape, y.shape)\n",
    "dfX = pd.DataFrame(X, columns=[\"Xt-2\", \"Xt-1\"])\n",
    "dfy = pd.DataFrame(y, columns=[\"Xt\"])\n",
    "\n",
    "df = pd.concat((dfX, dfy), axis = 1)\n",
    "df"
   ]
  }
 ],
 "metadata": {
  "language_info": {
   "name": "python"
  },
  "orig_nbformat": 4
 },
 "nbformat": 4,
 "nbformat_minor": 2
}
